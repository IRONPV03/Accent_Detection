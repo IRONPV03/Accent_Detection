{
 "cells": [
  {
   "cell_type": "code",
   "execution_count": null,
   "metadata": {},
   "outputs": [],
   "source": [
    "class AudioDataset(Dataset):\n",
    "    def __init__(self, root_dir, data_transform=None, sample_duration=5):\n",
    "        self.root_dir = root_dir\n",
    "        self.data_transform = data_transform\n",
    "        self.classes = sorted(os.listdir(root_dir))\n",
    "        self.sample_duration = sample_duration\n",
    "\n",
    "        self.data = []\n",
    "        self.labels = []\n",
    "        for i, class_name in enumerate(self.classes):\n",
    "            class_path = os.path.join(root_dir, class_name)\n",
    "            for filename in os.listdir(class_path):\n",
    "                filepath = os.path.join(class_path, filename)\n",
    "                self.data.append(filepath)\n",
    "                self.labels.append(i)\n",
    "\n",
    "    def __len__(self):\n",
    "        return len(self.data)\n",
    "\n",
    "    def __getitem__(self, idx):\n",
    "        waveform, _ = torchaudio.load(self.data[idx], normalize=True)\n",
    "\n",
    "        # Resample to 16 kHz\n",
    "        resample_transform = T.Resample(orig_freq=waveform.size(1), new_freq=16000)\n",
    "        waveform = resample_transform(waveform)\n",
    "\n",
    "        # Trim to the first 5 seconds\n",
    "        if waveform.size(1) > 16000 * self.sample_duration:\n",
    "            waveform = waveform[:, :16000 * self.sample_duration]\n",
    "\n",
    "        # Convert PyTorch tensor to NumPy array\n",
    "        waveform_np = waveform.numpy()\n",
    "\n",
    "        # Apply data transformations if provided\n",
    "        if self.data_transform:\n",
    "            waveform_np = self.data_transform(waveform_np)\n",
    "\n",
    "        label = torch.tensor(self.labels[idx], dtype=torch.long)\n",
    "        return waveform_np, label\n"
   ]
  },
  {
   "cell_type": "code",
   "execution_count": null,
   "metadata": {},
   "outputs": [],
   "source": []
  }
 ],
 "metadata": {
  "language_info": {
   "name": "python"
  }
 },
 "nbformat": 4,
 "nbformat_minor": 2
}
